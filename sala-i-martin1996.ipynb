{
 "cells": [
  {
   "cell_type": "markdown",
   "id": "1fdffa2e-db84-4535-a7f4-fcd896913888",
   "metadata": {},
   "source": [
    "# Sala-i_Martin (1996)的数学推导细节\n",
    "## 1.家庭部门"
   ]
  },
  {
   "cell_type": "code",
   "execution_count": null,
   "id": "bb3a15e6-619e-4dd1-a435-aa3095008225",
   "metadata": {},
   "outputs": [],
   "source": [
    "# agent' lifetime utility\n",
    "utility := u(c[y,t])+1/(1+rho)*u(c[o,t+1]);"
   ]
  },
  {
   "cell_type": "code",
   "execution_count": 2,
   "id": "ab6e354f-aadc-4f0b-98c6-d7edbcecfe93",
   "metadata": {},
   "outputs": [
    {
     "data": {
      "text/markdown": [
       "$$c_{y ,t} = w_{y ,t} \\left(1-\\tau \\right)+b_{t}-s_{y ,t +1}$$"
      ]
     },
     "execution_count": 2,
     "metadata": {},
     "output_type": "execute_result"
    }
   ],
   "source": [
    "# agent's young-age consumption flow constraint\n",
    "consumption_y := c[y,t]=w[y,t]*(1-tau)+b[t]-s[y,t+1];"
   ]
  },
  {
   "cell_type": "code",
   "execution_count": 3,
   "id": "15502690-3746-48a8-81d0-1934662d039f",
   "metadata": {},
   "outputs": [
    {
     "data": {
      "text/markdown": [
       "$$c_{o ,t +1} = w_{o ,t +1}+T_{t +1}+s_{y ,t +1} \\left(1+r_{t +1}\\right)-\\left(1+n \\right) b_{t +1}$$"
      ]
     },
     "execution_count": 3,
     "metadata": {},
     "output_type": "execute_result"
    }
   ],
   "source": [
    "# agent's old-age consumption flow constraint\n",
    "consumption_o := c[o,t+1]=w[o,t+1]+T[t+1]+s[y,t+1]*(1+r[t+1])-(1+n)*b[t+1];"
   ]
  },
  {
   "cell_type": "code",
   "execution_count": 4,
   "id": "034b20bd-5bf9-40d4-adc0-a9a3def43b2d",
   "metadata": {},
   "outputs": [
    {
     "data": {
      "text/markdown": [
       "$$u \\left(w_{y ,t} \\left(1-\\tau \\right)+b_{t}-s_{y ,t +1}\\right)+\\frac{u \\left(w_{o ,t +1}+T_{t +1}+s_{y ,t +1} \\left(1+r_{t +1}\\right)-\\left(1+n \\right) b_{t +1}\\right)}{1+\\rho}$$"
      ]
     },
     "execution_count": 4,
     "metadata": {},
     "output_type": "execute_result"
    }
   ],
   "source": [
    "# reduced agent's lifetime utility by incorporating with budget constraints\n",
    "reduced_utility:=subs(consumption_y,consumption_o,utility)"
   ]
  },
  {
   "cell_type": "code",
   "execution_count": 5,
   "id": "44852faa-177a-4e89-86e9-b3e256ae00a6",
   "metadata": {},
   "outputs": [
    {
     "data": {
      "text/markdown": [
       "$$V \\left(b_{t}\\right) = u \\left(w_{y ,t} \\left(1-\\tau \\right)+b_{t}-s_{y ,t +1}\\right)+\\frac{u \\left(w_{o ,t +1}+T_{t +1}+s_{y ,t +1} \\left(1+r_{t +1}\\right)-\\left(1+n \\right) b_{t +1}\\right)}{1+\\rho}+\\frac{V \\left(b_{t +1}\\right)}{1+\\Psi}$$"
      ]
     },
     "execution_count": 5,
     "metadata": {},
     "output_type": "execute_result"
    }
   ],
   "source": [
    "# bellman equation \n",
    "bellman := V(b[t])=reduced_utility+1/(1+Psi)*V(b[t+1]);"
   ]
  },
  {
   "cell_type": "code",
   "execution_count": 8,
   "id": "b5ccde7a-92c9-4ce3-9443-afcc425864fb",
   "metadata": {},
   "outputs": [
    {
     "data": {
      "text/markdown": [
       "$$0 = -D\\left(u \\right)\\left(c_{y ,t}\\right)+\\frac{D\\left(u \\right)\\left(c_{o ,t +1}\\right) \\left(1+r_{t +1}\\right)}{1+\\rho}$$"
      ]
     },
     "execution_count": 8,
     "metadata": {},
     "output_type": "execute_result"
    }
   ],
   "source": [
    "# optimal condition for saving s[y,t+1]\n",
    "foc_s := diff(bellman,s[y,t+1]):\n",
    "sub_rule_s:= rhs(consumption_y)=lhs(consumption_y),rhs(consumption_o)=lhs(consumption_o):\n",
    "optimal_s := subs(sub_rule_s,foc_s);"
   ]
  },
  {
   "cell_type": "code",
   "execution_count": 13,
   "id": "79ac7b43-98e8-41b4-b748-725f237fddc7",
   "metadata": {},
   "outputs": [
    {
     "data": {
      "text/markdown": [
       "$$0 = \\frac{D\\left(u \\right)\\left(c_{o ,t +1}\\right) \\left(-1-n \\right)}{1+\\rho}+\\frac{D\\left(V \\right)\\left(b_{t +1}\\right)}{1+\\Psi}$$"
      ]
     },
     "execution_count": 13,
     "metadata": {},
     "output_type": "execute_result"
    }
   ],
   "source": [
    "# optimal condition for bequest b[t+1]\n",
    "## first-order condition for b[t+1]\n",
    "foc_b := subs(rhs(consumption_o)=lhs(consumption_o),convert(diff(bellman, b[t+1]),D));"
   ]
  },
  {
   "cell_type": "code",
   "execution_count": 17,
   "id": "6ce8874b-6e2e-4023-b45e-3800b9a56baa",
   "metadata": {},
   "outputs": [
    {
     "data": {
      "text/markdown": [
       "$$D\\left(V \\right)\\left(b_{t +1}\\right) = D\\left(u \\right)\\left(c_{y ,t +1}\\right)$$"
      ]
     },
     "execution_count": 17,
     "metadata": {},
     "output_type": "execute_result"
    }
   ],
   "source": [
    "## envelop condition for b[t+1]\n",
    "envelope_b := subs(rhs(consumption_y)=lhs(consumption_y),t=t+1,convert(diff(bellman,b[t]),D));"
   ]
  },
  {
   "cell_type": "code",
   "execution_count": 18,
   "id": "4e825ca2-015d-4cb2-a2ea-e26617953b9c",
   "metadata": {},
   "outputs": [
    {
     "data": {
      "text/markdown": [
       "$$0 = \\frac{D\\left(u \\right)\\left(c_{o ,t +1}\\right) \\left(-1-n \\right)}{1+\\rho}+\\frac{D\\left(u \\right)\\left(c_{y ,t +1}\\right)}{1+\\Psi}$$"
      ]
     },
     "execution_count": 18,
     "metadata": {},
     "output_type": "execute_result"
    }
   ],
   "source": [
    "## optimal condition for bequest b[t+1]\n",
    "optimal_b := subs(envelope_b,foc_b);"
   ]
  },
  {
   "cell_type": "code",
   "execution_count": 20,
   "id": "14d76af4-bad4-4468-aaf8-bb2133156d4b",
   "metadata": {},
   "outputs": [
    {
     "data": {
      "text/markdown": [
       "$$0 = -\\frac{D\\left(u \\right)\\left(c_{o ,t +1}\\right)}{1+\\rho}+\\frac{D\\left(u \\right)\\left(c_{y ,t +1}\\right)}{1+\\Psi}$$"
      ]
     },
     "execution_count": 20,
     "metadata": {},
     "output_type": "execute_result"
    }
   ],
   "source": [
    "# Assuming zero population growth n=0 and positive bequest for all periods\n",
    "# Simplified optimal condition for B[t+1]\n",
    "simplified_optimal_b := subs(n=0,optimal_b);"
   ]
  },
  {
   "cell_type": "code",
   "execution_count": 21,
   "id": "4a0c3514-387e-44d6-a7ca-7c864c6df670",
   "metadata": {},
   "outputs": [
    {
     "data": {
      "text/markdown": [
       "$$0 = -D\\left(u \\right)\\left(c_{y ,t}\\right)+\\frac{D\\left(u \\right)\\left(c_{o ,t +1}\\right) \\left(1+r_{t +1}\\right)}{1+\\rho}$$"
      ]
     },
     "execution_count": 21,
     "metadata": {},
     "output_type": "execute_result"
    }
   ],
   "source": [
    "# Simplified optimal condition for s[y,t+1] is equal to raw optimal condition\n",
    "simplified_optimal_s := optimal_s;"
   ]
  },
  {
   "cell_type": "markdown",
   "id": "5b1dd7b6-8ae9-4098-aaf1-f7afea17409e",
   "metadata": {},
   "source": [
    "## 2. 生产部门"
   ]
  },
  {
   "cell_type": "code",
   "execution_count": 36,
   "id": "a7b66ae1-bd3c-494e-acc6-64100bb401b8",
   "metadata": {},
   "outputs": [
    {
     "data": {
      "text/markdown": [
       "$$Y_{t} = A K_{t}^{\\alpha} H_{t}^{1-\\alpha} \\left(\\frac{H_{t}}{N_{t}}\\right)^{\\epsilon_{j}} \\left(\\frac{H_{a ,t}}{N_{a \\cdot t}}\\right)^{\\epsilon}$$"
      ]
     },
     "execution_count": 36,
     "metadata": {},
     "output_type": "execute_result"
    }
   ],
   "source": [
    "# firm j's production function\n",
    "production := Y[t] = A*K[t]^alpha*(H[t])^(1-alpha)*(H[t]/N[t])^epsilon[j]*(H[a,t]/N[a.t])^epsilon;"
   ]
  },
  {
   "cell_type": "code",
   "execution_count": 37,
   "id": "8ac52b33-e731-4499-92f0-08cfdb6266e8",
   "metadata": {},
   "outputs": [
    {
     "data": {
      "text/markdown": [
       "$$H_{t} = n_{o ,t} h_{o ,t}+n_{y ,t} h_{y ,t}$$"
      ]
     },
     "execution_count": 37,
     "metadata": {},
     "output_type": "execute_result"
    }
   ],
   "source": [
    "# firm j's effective labor\n",
    "effective_labor := H[t] = n[y,t]*h[y,t]+n[o,t]*h[o,t];"
   ]
  },
  {
   "cell_type": "code",
   "execution_count": 38,
   "id": "431279b7-2bd4-4b24-a901-651d45c3b99b",
   "metadata": {},
   "outputs": [
    {
     "data": {
      "text/markdown": [
       "$$N_{t} = n_{y ,t}+n_{o ,t}$$"
      ]
     },
     "execution_count": 38,
     "metadata": {},
     "output_type": "execute_result"
    }
   ],
   "source": [
    "# firm j's employment\n",
    "employment := N[t] = n[y,t]+n[o,t];"
   ]
  },
  {
   "cell_type": "code",
   "execution_count": 42,
   "id": "78b5223c-f36c-43b5-90f1-1e2eb896f740",
   "metadata": {},
   "outputs": [
    {
     "data": {
      "text/markdown": [
       "$$Y_{t} = A K_{t}^{\\alpha} \\left(n_{o ,t} h_{o ,t}+n_{y ,t} h_{y ,t}\\right)^{1-\\alpha} \\left(\\frac{n_{o ,t} h_{o ,t}+n_{y ,t} h_{y ,t}}{n_{y ,t}+n_{o ,t}}\\right)^{\\epsilon_{j}} \\left(\\frac{H_{a ,t}}{N_{a \\cdot t}}\\right)^{\\epsilon}$$"
      ]
     },
     "execution_count": 42,
     "metadata": {},
     "output_type": "execute_result"
    }
   ],
   "source": [
    "# firm's reduced-form production function \n",
    "reduced_production := subs(effective_labor, employment,production);"
   ]
  },
  {
   "cell_type": "code",
   "execution_count": 39,
   "id": "55ec4a6e-2704-4ebc-9c12-e2aaaceff491",
   "metadata": {},
   "outputs": [
    {
     "data": {
      "text/markdown": [
       "$$h_{y ,t +1} = \\left(1+\\gamma \\right) h_{y ,t}$$"
      ]
     },
     "execution_count": 39,
     "metadata": {},
     "output_type": "execute_result"
    }
   ],
   "source": [
    "# young-age human capital accumlation\n",
    "human_capital_y:= h[y,t+1] = (1+gamma)*h[y,t];"
   ]
  },
  {
   "cell_type": "code",
   "execution_count": 40,
   "id": "ec7e1106-7745-4c2e-94b7-a80a8fba89e6",
   "metadata": {},
   "outputs": [
    {
     "data": {
      "text/markdown": [
       "$$h_{o ,t +1} = \\left(1+\\delta \\left(h_{y ,t}\\right)\\right) h_{y ,t}$$"
      ]
     },
     "execution_count": 40,
     "metadata": {},
     "output_type": "execute_result"
    }
   ],
   "source": [
    "# old-age human capital depreciation\n",
    "human_capital_o:= h[o,t+1] = (1+delta(h[y,t]))*h[y,t];"
   ]
  },
  {
   "cell_type": "code",
   "execution_count": 43,
   "id": "631df69a-cc0f-42a3-ac29-f773f7925e37",
   "metadata": {},
   "outputs": [
    {
     "data": {
      "text/markdown": [
       "$$\\pi_{t} = A K_{t}^{\\alpha} \\left(n_{o ,t} h_{o ,t}+n_{y ,t} h_{y ,t}\\right)^{1-\\alpha} \\left(\\frac{n_{o ,t} h_{o ,t}+n_{y ,t} h_{y ,t}}{n_{y ,t}+n_{o ,t}}\\right)^{\\epsilon_{j}} \\left(\\frac{H_{a ,t}}{N_{a \\cdot t}}\\right)^{\\epsilon}-r_{t} K_{t}-w_{y ,t} n_{y ,t}-w_{o ,t} n_{o ,t}$$"
      ]
     },
     "execution_count": 43,
     "metadata": {},
     "output_type": "execute_result"
    }
   ],
   "source": [
    "# profit flow of firm\n",
    "profit := pi[t] = rhs(reduced_production)-r[t]*K[t]-w[y,t]*n[y,t]-w[o,t]*n[o,t];"
   ]
  },
  {
   "cell_type": "code",
   "execution_count": 55,
   "id": "db0a36a6-311f-4988-9a96-72881017fb2d",
   "metadata": {},
   "outputs": [
    {
     "data": {
      "text/markdown": [
       "$$0 = \\frac{\\alpha  Y_{t}-r_{t} K_{t}}{K_{t}}$$"
      ]
     },
     "execution_count": 55,
     "metadata": {},
     "output_type": "execute_result"
    }
   ],
   "source": [
    "# foc of capital K[t]\n",
    "raw_foc_k := diff(profit,K[t]):\n",
    "foc_k := algsubs(rhs(reduced_production)=lhs(reduced_production),raw_foc_k);"
   ]
  },
  {
   "cell_type": "code",
   "execution_count": 54,
   "id": "6ed7060f-3dd7-4def-8252-e09538bcb709",
   "metadata": {},
   "outputs": [
    {
     "data": {
      "text/markdown": [
       "$$r_{t} = \\frac{\\alpha  Y_{t}}{K_{t}}$$"
      ]
     },
     "execution_count": 54,
     "metadata": {},
     "output_type": "execute_result"
    }
   ],
   "source": [
    "# interest rate \n",
    "interest:=r[t]=solve(foc_k,r[t]);"
   ]
  },
  {
   "cell_type": "code",
   "execution_count": 85,
   "id": "521b521a-20ff-489a-afd4-43fc15439bbd",
   "metadata": {},
   "outputs": [],
   "source": [
    "# foc of young-age employment\n",
    "raw_foc_ly := diff(profit,n[y,t]):\n",
    "foc_ly := lhs(raw_foc_ly)=algsubs(rhs(reduced_production)=lhs(reduced_production),op(1,rhs(raw_foc_ly)))+algsubs(rhs(reduced_production)=lhs(reduced_production),op(2,rhs(raw_foc_ly)))+op(3,rhs(raw_foc_ly)):"
   ]
  },
  {
   "cell_type": "code",
   "execution_count": 79,
   "id": "d063b980-8ad6-4353-885e-48c3014f89bc",
   "metadata": {},
   "outputs": [
    {
     "data": {
      "text/markdown": [
       "$$w_{y ,t} = -\\frac{\\left(-1+\\alpha \\right) h_{y ,t} Y_{t}}{n_{o ,t} h_{o ,t}+n_{y ,t} h_{y ,t}}-\\frac{Y_{t} \\left(h_{o ,t}-h_{y ,t}\\right) n_{o ,t} \\epsilon_{j}}{\\left(n_{o ,t} h_{o ,t}+n_{y ,t} h_{y ,t}\\right) \\left(n_{y ,t}+n_{o ,t}\\right)}$$"
      ]
     },
     "execution_count": 79,
     "metadata": {},
     "output_type": "execute_result"
    }
   ],
   "source": [
    "# young-age wage rate\n",
    "wage_y := lhs(foc_ly)+w[y,t]=rhs(foc_ly)+w[y,t];"
   ]
  },
  {
   "cell_type": "code",
   "execution_count": 84,
   "id": "08b38b9c-3d60-414a-980e-c6521712af7f",
   "metadata": {},
   "outputs": [],
   "source": [
    "# foc of old-age employment\n",
    "raw_foc_lo := diff(profit,n[o,t]):\n",
    "foc_lo := lhs(raw_foc_lo)=algsubs(rhs(reduced_production)=lhs(reduced_production),op(1,rhs(raw_foc_lo)))+algsubs(rhs(reduced_production)=lhs(reduced_production),op(2,rhs(raw_foc_lo)))+op(3,rhs(raw_foc_lo)):"
   ]
  },
  {
   "cell_type": "code",
   "execution_count": 83,
   "id": "1c31dd2d-f9fb-4601-be8a-474bedc789d0",
   "metadata": {},
   "outputs": [
    {
     "data": {
      "text/markdown": [
       "$$w_{o ,t} = -\\frac{\\left(-1+\\alpha \\right) h_{o ,t} Y_{t}}{n_{o ,t} h_{o ,t}+n_{y ,t} h_{y ,t}}+\\frac{Y_{t} \\left(h_{o ,t}-h_{y ,t}\\right) n_{y ,t} \\epsilon_{j}}{\\left(n_{o ,t} h_{o ,t}+n_{y ,t} h_{y ,t}\\right) \\left(n_{y ,t}+n_{o ,t}\\right)}$$"
      ]
     },
     "execution_count": 83,
     "metadata": {},
     "output_type": "execute_result"
    }
   ],
   "source": [
    "# old-age wage rate\n",
    "wage_o := lhs(foc_lo)+w[o,t]=rhs(foc_lo)+w[o,t];"
   ]
  },
  {
   "cell_type": "markdown",
   "id": "3c6ecb98-4dc9-487e-ab89-93baf321861c",
   "metadata": {},
   "source": [
    "## 3. 一般均衡"
   ]
  },
  {
   "cell_type": "code",
   "execution_count": null,
   "id": "18650b8d-007c-4506-ba63-7511d2efaf54",
   "metadata": {},
   "outputs": [],
   "source": []
  }
 ],
 "metadata": {
  "kernelspec": {
   "display_name": "Maple 2022",
   "language": "maple",
   "name": "maple"
  },
  "language_info": {
   "file_extension": ".mpl",
   "mimetype": "application/vnd.maple.mpl",
   "name": "maple",
   "version": "2022"
  }
 },
 "nbformat": 4,
 "nbformat_minor": 5
}
