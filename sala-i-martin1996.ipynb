{
 "cells": [
  {
   "cell_type": "markdown",
   "id": "1fdffa2e-db84-4535-a7f4-fcd896913888",
   "metadata": {},
   "source": [
    "# Sala-i_Martin (1996)的数学推导细节\n",
    "## 1.家庭部门"
   ]
  },
  {
   "cell_type": "code",
   "execution_count": 1,
   "metadata": {},
   "outputs": [
    {
     "data": {
      "text/plain": [
       "kilobytes used=2797, alloc=9776, time=0.55"
      ]
     },
     "metadata": {},
     "output_type": "display_data"
    }
   ],
   "source": [
    "# Assumptions\n",
    "restart:\n",
    "assumption_utility:= u(c[y,t]) = ln(c[y,t]), u(c[o,t+1]) = ln(c[o,t+1]):\n",
    "assumption_discount:= Psi=rho:\n",
    "assumption_n := n=0:"
   ]
  },
  {
   "cell_type": "code",
   "execution_count": 2,
   "id": "bb3a15e6-619e-4dd1-a435-aa3095008225",
   "metadata": {},
   "outputs": [
    {
     "data": {
      "text/plain": [
       "kilobytes used=5904, alloc=9776, time=0.98"
      ]
     },
     "metadata": {},
     "output_type": "display_data"
    },
    {
     "data": {
      "text/markdown": [
       "$$\\ln \\left(c_{y ,t}\\right)+\\frac{\\ln \\left(c_{o ,t +1}\\right)}{1+\\rho}$$"
      ]
     },
     "execution_count": 2,
     "metadata": {},
     "output_type": "execute_result"
    }
   ],
   "source": [
    "# agent' lifetime utility\n",
    "utility := subs(assumption_utility,u(c[y,t])+1/(1+rho)*u(c[o,t+1]));"
   ]
  },
  {
   "cell_type": "code",
   "execution_count": 3,
   "id": "ab6e354f-aadc-4f0b-98c6-d7edbcecfe93",
   "metadata": {},
   "outputs": [
    {
     "data": {
      "text/markdown": [
       "$$c_{y ,t} = w_{y ,t} l_{y ,t} \\left(1-\\tau \\right)+b_{t}-s_{t}$$"
      ]
     },
     "execution_count": 3,
     "metadata": {},
     "output_type": "execute_result"
    }
   ],
   "source": [
    "# agent's young-age consumption flow constraint\n",
    "consumption_y := c[y,t]=w[y,t]*l[y,t]*(1-tau)+b[t]-s[t];"
   ]
  },
  {
   "cell_type": "code",
   "execution_count": 4,
   "id": "15502690-3746-48a8-81d0-1934662d039f",
   "metadata": {},
   "outputs": [
    {
     "data": {
      "text/markdown": [
       "$$c_{o ,t +1} = w_{o ,t +1} l_{o ,t +1}+s_{t} r_{t +1}+T_{t +1}-b_{t +1}$$"
      ]
     },
     "execution_count": 4,
     "metadata": {},
     "output_type": "execute_result"
    }
   ],
   "source": [
    "# agent's old-age consumption flow constraint\n",
    "consumption_o := subs(assumption_n,c[o,t+1]=w[o,t+1]*l[o,t+1]+T[t+1]+s[t]*r[t+1]-(1+n)*b[t+1]);"
   ]
  },
  {
   "cell_type": "code",
   "execution_count": 5,
   "id": "034b20bd-5bf9-40d4-adc0-a9a3def43b2d",
   "metadata": {},
   "outputs": [
    {
     "data": {
      "text/markdown": [
       "$$\\ln \\left(w_{y ,t} l_{y ,t} \\left(1-\\tau \\right)+b_{t}-s_{t}\\right)+\\frac{\\ln \\left(w_{o ,t +1} l_{o ,t +1}+s_{t} r_{t +1}+T_{t +1}-b_{t +1}\\right)}{1+\\rho}$$"
      ]
     },
     "execution_count": 5,
     "metadata": {},
     "output_type": "execute_result"
    }
   ],
   "source": [
    "# reduced agent's lifetime utility by incorporating with budget constraints\n",
    "reduced_utility:=subs(consumption_y,consumption_o,utility)"
   ]
  },
  {
   "cell_type": "code",
   "execution_count": 6,
   "id": "44852faa-177a-4e89-86e9-b3e256ae00a6",
   "metadata": {},
   "outputs": [
    {
     "data": {
      "text/markdown": [
       "$$V \\left(b_{t}\\right) = \\ln \\left(w_{y ,t} l_{y ,t} \\left(1-\\tau \\right)+b_{t}-s_{t}\\right)+\\frac{\\ln \\left(w_{o ,t +1} l_{o ,t +1}+s_{t} r_{t +1}+T_{t +1}-b_{t +1}\\right)}{1+\\rho}+\\frac{V \\left(b_{t +1}\\right)}{1+\\rho}$$"
      ]
     },
     "execution_count": 6,
     "metadata": {},
     "output_type": "execute_result"
    }
   ],
   "source": [
    "# bellman equation \n",
    "bellman := subs(assumption_discount,V(b[t])=reduced_utility+1/(1+Psi)*V(b[t+1]));"
   ]
  },
  {
   "cell_type": "code",
   "execution_count": 7,
   "id": "b5ccde7a-92c9-4ce3-9443-afcc425864fb",
   "metadata": {},
   "outputs": [
    {
     "data": {
      "text/markdown": [
       "$$0 = -\\frac{1}{c_{y ,t}}+\\frac{r_{t +1}}{\\left(1+\\rho \\right) c_{o ,t +1}}$$"
      ]
     },
     "execution_count": 7,
     "metadata": {},
     "output_type": "execute_result"
    }
   ],
   "source": [
    "# optimal condition for saving s[t]\n",
    "foc_s := diff(bellman,s[t]):\n",
    "sub_rule_s:= rhs(consumption_y)=lhs(consumption_y),rhs(consumption_o)=lhs(consumption_o):\n",
    "optimal_s := subs(sub_rule_s,foc_s);"
   ]
  },
  {
   "cell_type": "code",
   "execution_count": 8,
   "id": "75872e4e",
   "metadata": {},
   "outputs": [
    {
     "data": {
      "text/markdown": [
       "$$\\frac{1}{c_{y ,t}} = \\frac{r_{t +1}}{\\left(1+\\rho \\right) c_{o ,t +1}}$$"
      ]
     },
     "execution_count": 8,
     "metadata": {},
     "output_type": "execute_result"
    }
   ],
   "source": [
    "# well-formated optimal condition for saving s[t]\n",
    "optimal_s_well:=isolate(optimal_s,-op(1,rhs(optimal_s)));"
   ]
  },
  {
   "cell_type": "code",
   "execution_count": 9,
   "id": "79ac7b43-98e8-41b4-b748-725f237fddc7",
   "metadata": {},
   "outputs": [
    {
     "data": {
      "text/markdown": [
       "$$0 = -\\frac{1}{\\left(1+\\rho \\right) c_{o ,t +1}}+\\frac{D\\left(V \\right)\\left(b_{t +1}\\right)}{1+\\rho}$$"
      ]
     },
     "execution_count": 9,
     "metadata": {},
     "output_type": "execute_result"
    }
   ],
   "source": [
    "# optimal condition for bequest b[t+1]\n",
    "## first-order condition for b[t+1]\n",
    "foc_b := subs(rhs(consumption_o)=lhs(consumption_o),convert(diff(bellman, b[t+1]),D));"
   ]
  },
  {
   "cell_type": "code",
   "execution_count": 10,
   "id": "6ce8874b-6e2e-4023-b45e-3800b9a56baa",
   "metadata": {},
   "outputs": [
    {
     "data": {
      "text/markdown": [
       "$$D\\left(V \\right)\\left(b_{t +1}\\right) = \\frac{1}{c_{y ,t +1}}$$"
      ]
     },
     "execution_count": 10,
     "metadata": {},
     "output_type": "execute_result"
    }
   ],
   "source": [
    "## envelop condition for b[t+1]\n",
    "envelope_b := subs(rhs(consumption_y)=lhs(consumption_y),t=t+1,convert(diff(bellman,b[t]),D));"
   ]
  },
  {
   "cell_type": "code",
   "execution_count": 11,
   "id": "4e825ca2-015d-4cb2-a2ea-e26617953b9c",
   "metadata": {},
   "outputs": [
    {
     "data": {
      "text/markdown": [
       "$$0 = -\\frac{1}{\\left(1+\\rho \\right) c_{o ,t +1}}+\\frac{1}{\\left(1+\\rho \\right) c_{y ,t +1}}$$"
      ]
     },
     "execution_count": 11,
     "metadata": {},
     "output_type": "execute_result"
    }
   ],
   "source": [
    "## optimal condition for bequest b[t+1]\n",
    "optimal_b := subs(envelope_b,foc_b);"
   ]
  },
  {
   "cell_type": "code",
   "execution_count": 12,
   "metadata": {},
   "outputs": [
    {
     "data": {
      "text/markdown": [
       "$$\\frac{1}{c_{o ,t +1}} = \\frac{1}{c_{y ,t +1}}$$"
      ]
     },
     "execution_count": 12,
     "metadata": {},
     "output_type": "execute_result"
    }
   ],
   "source": [
    "# well-formated optimal condition for bequest b[t+1]\n",
    "optimal_b_well:=(1+rho)*isolate(optimal_b,-op(1,rhs(optimal_b)));"
   ]
  },
  {
   "cell_type": "code",
   "execution_count": 13,
   "id": "aa3bc8a5",
   "metadata": {},
   "outputs": [],
   "source": [
    "# analytic solution of saving s[t]\n"
   ]
  },
  {
   "cell_type": "markdown",
   "id": "5b1dd7b6-8ae9-4098-aaf1-f7afea17409e",
   "metadata": {},
   "source": [
    "## 2. 生产部门"
   ]
  },
  {
   "cell_type": "code",
   "execution_count": 14,
   "id": "a7b66ae1-bd3c-494e-acc6-64100bb401b8",
   "metadata": {},
   "outputs": [
    {
     "data": {
      "text/markdown": [
       "$$Y_{t} = A K_{t}^{\\alpha} H_{t}^{1-\\alpha} \\left(\\frac{H_{t}}{N_{t}}\\right)^{\\epsilon_{j}} \\left(\\frac{H_{a ,t}}{N_{a ,t}}\\right)^{\\epsilon}$$"
      ]
     },
     "execution_count": 14,
     "metadata": {},
     "output_type": "execute_result"
    }
   ],
   "source": [
    "# firm j's production function\n",
    "production := Y[t] = A*K[t]^alpha*(H[t])^(1-alpha)*(H[t]/N[t])^epsilon[j]*(H[a,t]/N[a,t])^epsilon;"
   ]
  },
  {
   "cell_type": "code",
   "execution_count": 15,
   "id": "8ac52b33-e731-4499-92f0-08cfdb6266e8",
   "metadata": {},
   "outputs": [
    {
     "data": {
      "text/markdown": [
       "$$H_{t} = n_{o ,t} h_{o ,t}+n_{y ,t} h_{y ,t}$$"
      ]
     },
     "execution_count": 15,
     "metadata": {},
     "output_type": "execute_result"
    }
   ],
   "source": [
    "# firm j's effective labor\n",
    "effective_labor := H[t] = n[y,t]*h[y,t]+n[o,t]*h[o,t];"
   ]
  },
  {
   "cell_type": "code",
   "execution_count": 16,
   "id": "431279b7-2bd4-4b24-a901-651d45c3b99b",
   "metadata": {},
   "outputs": [
    {
     "data": {
      "text/markdown": [
       "$$N_{t} = n_{y ,t}+n_{o ,t}$$"
      ]
     },
     "execution_count": 16,
     "metadata": {},
     "output_type": "execute_result"
    }
   ],
   "source": [
    "# firm j's employment\n",
    "employment := N[t] = n[y,t]+n[o,t];"
   ]
  },
  {
   "cell_type": "code",
   "execution_count": 17,
   "id": "78b5223c-f36c-43b5-90f1-1e2eb896f740",
   "metadata": {},
   "outputs": [
    {
     "data": {
      "text/markdown": [
       "$$Y_{t} = A K_{t}^{\\alpha} \\left(n_{o ,t} h_{o ,t}+n_{y ,t} h_{y ,t}\\right)^{1-\\alpha} \\left(\\frac{n_{o ,t} h_{o ,t}+n_{y ,t} h_{y ,t}}{n_{y ,t}+n_{o ,t}}\\right)^{\\epsilon_{j}} \\left(\\frac{H_{a ,t}}{N_{a ,t}}\\right)^{\\epsilon}$$"
      ]
     },
     "execution_count": 17,
     "metadata": {},
     "output_type": "execute_result"
    }
   ],
   "source": [
    "# firm's reduced-form production function \n",
    "reduced_production := subs(effective_labor, employment,production);"
   ]
  },
  {
   "cell_type": "code",
   "execution_count": 18,
   "id": "55ec4a6e-2704-4ebc-9c12-e2aaaceff491",
   "metadata": {},
   "outputs": [
    {
     "data": {
      "text/markdown": [
       "$$h_{y ,t +1} = \\left(1+\\gamma \\right) h_{y ,t}$$"
      ]
     },
     "execution_count": 18,
     "metadata": {},
     "output_type": "execute_result"
    }
   ],
   "source": [
    "# young-age human capital accumlation\n",
    "human_capital_y:= h[y,t+1] = (1+gamma)*h[y,t];"
   ]
  },
  {
   "cell_type": "code",
   "execution_count": 19,
   "id": "ec7e1106-7745-4c2e-94b7-a80a8fba89e6",
   "metadata": {},
   "outputs": [
    {
     "data": {
      "text/markdown": [
       "$$h_{o ,t +1} = \\left(1-\\delta \\left(h_{y ,t}\\right)\\right) h_{y ,t}$$"
      ]
     },
     "execution_count": 19,
     "metadata": {},
     "output_type": "execute_result"
    }
   ],
   "source": [
    "# old-age human capital depreciation\n",
    "human_capital_o:= h[o,t+1] = (1-delta(h[y,t]))*h[y,t];"
   ]
  },
  {
   "cell_type": "code",
   "execution_count": 20,
   "id": "631df69a-cc0f-42a3-ac29-f773f7925e37",
   "metadata": {},
   "outputs": [
    {
     "data": {
      "text/markdown": [
       "$$\\pi_{t} = A K_{t}^{\\alpha} \\left(n_{o ,t} h_{o ,t}+n_{y ,t} h_{y ,t}\\right)^{1-\\alpha} \\left(\\frac{n_{o ,t} h_{o ,t}+n_{y ,t} h_{y ,t}}{n_{y ,t}+n_{o ,t}}\\right)^{\\epsilon_{j}} \\left(\\frac{H_{a ,t}}{N_{a ,t}}\\right)^{\\epsilon}-r_{t} K_{t}-w_{y ,t} n_{y ,t}-w_{o ,t} n_{o ,t}$$"
      ]
     },
     "execution_count": 20,
     "metadata": {},
     "output_type": "execute_result"
    }
   ],
   "source": [
    "# profit flow of firm\n",
    "profit := pi[t] = rhs(reduced_production)-r[t]*K[t]-w[y,t]*n[y,t]-w[o,t]*n[o,t];"
   ]
  },
  {
   "cell_type": "code",
   "execution_count": 21,
   "id": "db0a36a6-311f-4988-9a96-72881017fb2d",
   "metadata": {},
   "outputs": [
    {
     "data": {
      "text/markdown": [
       "$$0 = \\frac{\\alpha  Y_{t}-r_{t} K_{t}}{K_{t}}$$"
      ]
     },
     "execution_count": 21,
     "metadata": {},
     "output_type": "execute_result"
    }
   ],
   "source": [
    "# foc of capital K[t]\n",
    "raw_foc_k := diff(profit,K[t]):\n",
    "foc_k := algsubs(rhs(reduced_production)=lhs(reduced_production),raw_foc_k);"
   ]
  },
  {
   "cell_type": "code",
   "execution_count": 22,
   "id": "6ed7060f-3dd7-4def-8252-e09538bcb709",
   "metadata": {},
   "outputs": [
    {
     "data": {
      "text/markdown": [
       "$$r_{t} = \\frac{\\alpha  Y_{t}}{K_{t}}$$"
      ]
     },
     "execution_count": 22,
     "metadata": {},
     "output_type": "execute_result"
    }
   ],
   "source": [
    "# interest rate \n",
    "interest:=isolate(foc_k,r[t]);"
   ]
  },
  {
   "cell_type": "code",
   "execution_count": 23,
   "id": "521b521a-20ff-489a-afd4-43fc15439bbd",
   "metadata": {},
   "outputs": [],
   "source": [
    "# foc of young-age employment\n",
    "raw_foc_ly := diff(profit,n[y,t]):\n",
    "foc_ly := lhs(raw_foc_ly)=algsubs(rhs(reduced_production)=lhs(reduced_production),op(1,rhs(raw_foc_ly)))+algsubs(rhs(reduced_production)=lhs(reduced_production),op(2,rhs(raw_foc_ly)))+op(3,rhs(raw_foc_ly)):"
   ]
  },
  {
   "cell_type": "code",
   "execution_count": 24,
   "id": "d063b980-8ad6-4353-885e-48c3014f89bc",
   "metadata": {},
   "outputs": [
    {
     "data": {
      "text/markdown": [
       "$$w_{y ,t} = -\\frac{\\left(-1+\\alpha \\right) h_{y ,t} Y_{t}}{n_{o ,t} h_{o ,t}+n_{y ,t} h_{y ,t}}-\\frac{Y_{t} \\left(h_{o ,t}-h_{y ,t}\\right) n_{o ,t} \\epsilon_{j}}{\\left(n_{o ,t} h_{o ,t}+n_{y ,t} h_{y ,t}\\right) \\left(n_{y ,t}+n_{o ,t}\\right)}$$"
      ]
     },
     "execution_count": 24,
     "metadata": {},
     "output_type": "execute_result"
    }
   ],
   "source": [
    "# young-age wage rate\n",
    "wage_y := isolate(foc_ly,w[y,t]);"
   ]
  },
  {
   "cell_type": "code",
   "execution_count": 25,
   "id": "08b38b9c-3d60-414a-980e-c6521712af7f",
   "metadata": {},
   "outputs": [],
   "source": [
    "# foc of old-age employment\n",
    "raw_foc_lo := diff(profit,n[o,t]):\n",
    "foc_lo := lhs(raw_foc_lo)=algsubs(rhs(reduced_production)=lhs(reduced_production),op(1,rhs(raw_foc_lo)))+algsubs(rhs(reduced_production)=lhs(reduced_production),op(2,rhs(raw_foc_lo)))+op(3,rhs(raw_foc_lo)):"
   ]
  },
  {
   "cell_type": "code",
   "execution_count": 26,
   "id": "1c31dd2d-f9fb-4601-be8a-474bedc789d0",
   "metadata": {},
   "outputs": [
    {
     "data": {
      "text/markdown": [
       "$$w_{o ,t} = -\\frac{\\left(-1+\\alpha \\right) h_{o ,t} Y_{t}}{n_{o ,t} h_{o ,t}+n_{y ,t} h_{y ,t}}+\\frac{Y_{t} \\left(h_{o ,t}-h_{y ,t}\\right) n_{y ,t} \\epsilon_{j}}{\\left(n_{o ,t} h_{o ,t}+n_{y ,t} h_{y ,t}\\right) \\left(n_{y ,t}+n_{o ,t}\\right)}$$"
      ]
     },
     "execution_count": 26,
     "metadata": {},
     "output_type": "execute_result"
    }
   ],
   "source": [
    "# old-age wage rate\n",
    "wage_o := isolate(foc_lo,w[o,t]);"
   ]
  },
  {
   "cell_type": "code",
   "execution_count": 27,
   "id": "3042ab55",
   "metadata": {},
   "outputs": [
    {
     "data": {
      "text/markdown": [
       "$$r_{t} K_{t}+w_{o ,t} n_{o ,t}+w_{y ,t} n_{y ,t} = Y_{t}$$"
      ]
     },
     "execution_count": 27,
     "metadata": {},
     "output_type": "execute_result"
    }
   ],
   "source": [
    "# factor income distribution\n",
    "income := n[o,t]*lhs(wage_o)+n[y,t]*lhs(wage_y)+K[t]*lhs(interest)=n[o,t]*rhs(wage_o)+n[y,t]*rhs(wage_y)+K[t]*rhs(interest):\n",
    "income := simplify(income);"
   ]
  },
  {
   "cell_type": "markdown",
   "id": "3af8373c",
   "metadata": {},
   "source": [
    "## 3. 政府部门"
   ]
  },
  {
   "cell_type": "code",
   "execution_count": 28,
   "id": "aa34f19d",
   "metadata": {},
   "outputs": [
    {
     "data": {
      "text/markdown": [
       "$$T_{t +1} = \\tau  w_{y ,t +1} l_{y ,t +1}$$"
      ]
     },
     "execution_count": 28,
     "metadata": {},
     "output_type": "execute_result"
    }
   ],
   "source": [
    "# social security system\n",
    "social_security := T[t+1]=tau*w[y,t+1]*l[y,t+1];"
   ]
  },
  {
   "cell_type": "markdown",
   "id": "3c6ecb98-4dc9-487e-ab89-93baf321861c",
   "metadata": {},
   "source": [
    "## 3. 一般均衡"
   ]
  },
  {
   "cell_type": "code",
   "execution_count": 29,
   "id": "18650b8d-007c-4506-ba63-7511d2efaf54",
   "metadata": {},
   "outputs": [
    {
     "data": {
      "text/markdown": [
       "$$K_{t +1} = s_{t}$$"
      ]
     },
     "execution_count": 29,
     "metadata": {},
     "output_type": "execute_result"
    }
   ],
   "source": [
    "# capital market clear\n",
    "clear_k:= K[t+1]=s[t];"
   ]
  },
  {
   "cell_type": "code",
   "execution_count": 30,
   "id": "8ae2aec3-eb2e-448d-b218-eb418a493549",
   "metadata": {},
   "outputs": [
    {
     "data": {
      "text/markdown": [
       "$$n_{y ,t} = l_{y ,t}$$"
      ]
     },
     "execution_count": 30,
     "metadata": {},
     "output_type": "execute_result"
    }
   ],
   "source": [
    "# young-age labor market clear\n",
    "clear_ny := n[y,t]=l[y,t];"
   ]
  },
  {
   "cell_type": "code",
   "execution_count": 31,
   "id": "e58f9bf0",
   "metadata": {},
   "outputs": [
    {
     "data": {
      "text/markdown": [
       "$$n_{o ,t} = l_{o ,t}$$"
      ]
     },
     "execution_count": 31,
     "metadata": {},
     "output_type": "execute_result"
    }
   ],
   "source": [
    "# old-age labor market clear\n",
    "clear_oy := n[o,t]=l[o,t];"
   ]
  },
  {
   "cell_type": "code",
   "execution_count": 32,
   "id": "4a253605",
   "metadata": {},
   "outputs": [
    {
     "data": {
      "text/markdown": [
       "$$H_{a ,t} = n_{o ,t} h_{o ,t}+n_{y ,t} h_{y ,t}$$"
      ]
     },
     "execution_count": 32,
     "metadata": {},
     "output_type": "execute_result"
    }
   ],
   "source": [
    "# symmetric condition of H[a,t]\n",
    "symmetric_h:= subs(effective_labor,H[a,t]=H[t]);"
   ]
  },
  {
   "cell_type": "code",
   "execution_count": 33,
   "id": "d3c66552",
   "metadata": {},
   "outputs": [
    {
     "data": {
      "text/markdown": [
       "$$N_{a ,t} = n_{y ,t}+n_{o ,t}$$"
      ]
     },
     "execution_count": 33,
     "metadata": {},
     "output_type": "execute_result"
    }
   ],
   "source": [
    "# symmetric condition of N[a,t]\n",
    "symmetric_n:= subs(employment,N[a,t]=N[t]);"
   ]
  },
  {
   "cell_type": "markdown",
   "id": "4ee1b7da",
   "metadata": {},
   "source": [
    "## 4. 分析结果"
   ]
  },
  {
   "cell_type": "code",
   "execution_count": 34,
   "id": "187774f3",
   "metadata": {},
   "outputs": [
    {
     "data": {
      "text/markdown": [
       "$$\\frac{1}{c_{y ,t}} = \\frac{\\alpha  Y_{t +1}}{\\left(1+\\rho \\right) K_{t +1} c_{o ,t +1}}$$"
      ]
     },
     "execution_count": 34,
     "metadata": {},
     "output_type": "execute_result"
    }
   ],
   "source": [
    "# 求解储蓄率\n",
    "# lifetime budget constraint\n",
    "optimal_s_real := subs(subs(t=t+1,interest),optimal_s_well);"
   ]
  },
  {
   "cell_type": "code",
   "execution_count": 35,
   "id": "3a9a5428",
   "metadata": {},
   "outputs": [
    {
     "data": {
      "text/markdown": [
       "$$\\frac{1}{c_{y} Y_{t}} = \\frac{\\alpha}{\\left(1+\\rho \\right) K_{t +1} c_{o}}$$"
      ]
     },
     "execution_count": 35,
     "metadata": {},
     "output_type": "execute_result"
    }
   ],
   "source": [
    "# guess constant consumption rate c[y,t]=c[y]*Y[t], c[o,t+1]=c[o]*Y[t+1] , c[y,t+1]=c[y]*Y[t+1]\n",
    "guess := c[y,t]=c[y]*Y[t], c[o,t+1]=c[o]*Y[t+1], c[y,t+1]=c[y]*Y[t+1]:\n",
    "optimal_s_ratio:=subs(guess,optimal_s_real);"
   ]
  },
  {
   "cell_type": "code",
   "execution_count": 36,
   "id": "4a704063",
   "metadata": {},
   "outputs": [
    {
     "data": {
      "text/markdown": [
       "$$\\frac{1}{c_{o}} = \\frac{1}{c_{y}}$$"
      ]
     },
     "execution_count": 36,
     "metadata": {},
     "output_type": "execute_result"
    }
   ],
   "source": [
    "# guess constant consumption rate c[y,t]=c[y]*Y[t], c[o,t+1]=c[o]*Y[t+1] , c[y,t+1]=c[y]*Y[t+1]\n",
    "optimal_b_ratio:=Y[t+1]*subs(guess,optimal_b_well);"
   ]
  },
  {
   "cell_type": "code",
   "execution_count": 37,
   "id": "3d48bff8",
   "metadata": {},
   "outputs": [
    {
     "data": {
      "text/markdown": [
       "$$K_{t +1} = \\frac{\\alpha  Y_{t}}{1+\\rho}$$"
      ]
     },
     "execution_count": 37,
     "metadata": {},
     "output_type": "execute_result"
    }
   ],
   "source": [
    "# solution of K[t+1]\n",
    "solution_k:=K[t+1]=solve(subs(optimal_b_ratio,optimal_s_ratio),K[t+1]);"
   ]
  },
  {
   "cell_type": "code",
   "execution_count": 38,
   "id": "acad7d22",
   "metadata": {},
   "outputs": [
    {
     "data": {
      "text/markdown": [
       "$$Y_{t +1} = A \\left(\\frac{\\alpha  Y_{t}}{1+\\rho}\\right)^{\\alpha} \\left(h_{o ,t +1} n_{o ,t +1}+h_{y ,t +1} n_{y ,t +1}\\right)^{1-\\alpha} \\left(\\frac{h_{o ,t +1} n_{o ,t +1}+h_{y ,t +1} n_{y ,t +1}}{n_{y ,t +1}+n_{o ,t +1}}\\right)^{\\epsilon_{j}} \\left(\\frac{h_{o ,t +1} n_{o ,t +1}+h_{y ,t +1} n_{y ,t +1}}{n_{y ,t +1}+n_{o ,t +1}}\\right)^{\\epsilon}$$"
      ]
     },
     "execution_count": 38,
     "metadata": {},
     "output_type": "execute_result"
    }
   ],
   "source": [
    "# dynamics of output Y[t+1] without social security n[o,t]>0\n",
    "production_work := subs(t=t+1,solution_k,subs(t=t+1,symmetric_h),subs(t=t+1,symmetric_n),reduced_production);"
   ]
  },
  {
   "cell_type": "code",
   "execution_count": 39,
   "id": "58061cd2",
   "metadata": {},
   "outputs": [
    {
     "data": {
      "text/markdown": [
       "$$Y_{s ,t +1} = A \\left(\\frac{\\alpha  Y_{s ,t}}{1+\\rho}\\right)^{\\alpha} \\left(h_{y ,t +1} n_{y ,t +1}\\right)^{1-\\alpha} h_{y ,t +1}^{\\epsilon_{j}} h_{y ,t +1}^{\\epsilon}$$"
      ]
     },
     "execution_count": 39,
     "metadata": {},
     "output_type": "execute_result"
    }
   ],
   "source": [
    "production_retire:=subs(t=t+1,solution_k,subs(t=t+1,symmetric_h),subs(t=t+1,symmetric_n),n[o,t+1]=0,Y[t+1]=Y[s,t+1],Y[t]=Y[s,t],reduced_production);"
   ]
  },
  {
   "cell_type": "code",
   "execution_count": 40,
   "id": "e1515b58",
   "metadata": {},
   "outputs": [
    {
     "data": {
      "text/markdown": [
       "$$\\ln \\left(Y_{t +1}\\right) = \\ln \\left(A \\right)+\\alpha  \\ln \\left(\\alpha \\right)+\\alpha  \\ln \\left(Y_{t}\\right)-\\alpha  \\ln \\left(1+\\rho \\right)+\\left(1-\\alpha +\\epsilon_{j}+\\epsilon \\right) \\ln \\left(h_{y ,t}\\right)+\\left(1-\\alpha +\\epsilon_{j}+\\epsilon \\right) \\ln \\left(n_{y} \\left(1+\\gamma \\right)-n_{o} \\left(\\delta -1\\right)\\right)+\\left(-\\epsilon_{j}-\\epsilon \\right) \\ln \\left(n_{y}+n_{o}\\right)$$"
      ]
     },
     "execution_count": 40,
     "metadata": {},
     "output_type": "execute_result"
    }
   ],
   "source": [
    "# output with elderly labor\n",
    "bgp := delta(h[y,t])=delta,n[o,t+1]=n[o],n[y,t+1]=n[y]:\n",
    "output_dynamics_work:=simplify(subs(human_capital_y,human_capital_o,bgp,production_work),power,symbolic):\n",
    "output_dynamics_work:=simplify(ln(lhs(output_dynamics_work))=ln(rhs(output_dynamics_work)),power,symbolic);"
   ]
  },
  {
   "cell_type": "code",
   "execution_count": 41,
   "id": "2f4327a9",
   "metadata": {},
   "outputs": [
    {
     "data": {
      "text/markdown": [
       "$$\\ln \\left(Y_{s ,t +1}\\right) = \\ln \\left(A \\right)+\\alpha  \\ln \\left(\\alpha \\right)+\\alpha  \\ln \\left(Y_{s ,t}\\right)-\\alpha  \\ln \\left(1+\\rho \\right)+\\left(1-\\alpha +\\epsilon_{j}+\\epsilon \\right) \\ln \\left(1+\\gamma \\right)+\\left(1-\\alpha +\\epsilon_{j}+\\epsilon \\right) \\ln \\left(h_{y ,t}\\right)+\\left(1-\\alpha \\right) \\ln \\left(n_{y}\\right)$$"
      ]
     },
     "execution_count": 41,
     "metadata": {},
     "output_type": "execute_result"
    }
   ],
   "source": [
    "# output without elderly labor\n",
    "output_dynamics_retire:=simplify(subs(human_capital_y,human_capital_o,bgp,production_retire),power,symbolic):\n",
    "output_dynamics_retire:=simplify(ln(lhs(output_dynamics_retire))=ln(rhs(output_dynamics_retire)),power,symbolic);"
   ]
  },
  {
   "cell_type": "code",
   "execution_count": 42,
   "id": "44790ebd",
   "metadata": {},
   "outputs": [
    {
     "data": {
      "text/markdown": [
       "$$\\ln \\left(Y_{t +1}\\right) = \\alpha  \\ln \\left(Y_{t}\\right)+\\left(1-\\alpha +\\epsilon_{j}+\\epsilon \\right) \\ln \\left(h_{y ,t}\\right)+\\eta_{w}$$"
      ]
     },
     "execution_count": 42,
     "metadata": {},
     "output_type": "execute_result"
    }
   ],
   "source": [
    "# well-format output dynamics with elderly labor\n",
    "constant_work := eta[w]=rhs(output_dynamics_work)-alpha*ln(Y[t])-(1-alpha+epsilon[j]+epsilon)*ln(h[y,t]):\n",
    "output_dynamics_work := lhs(output_dynamics_work)=alpha*ln(Y[t])+(1-alpha+epsilon[j]+epsilon)*ln(h[y,t])+lhs(constant_work);"
   ]
  },
  {
   "cell_type": "code",
   "execution_count": 43,
   "id": "1e509ec1",
   "metadata": {},
   "outputs": [
    {
     "data": {
      "text/markdown": [
       "$$\\ln \\left(Y_{s ,t +1}\\right) = \\alpha  \\ln \\left(Y_{s ,t}\\right)+\\left(1-\\alpha +\\epsilon_{j}+\\epsilon \\right) \\ln \\left(h_{y ,t}\\right)+\\eta_{r}$$"
      ]
     },
     "execution_count": 43,
     "metadata": {},
     "output_type": "execute_result"
    }
   ],
   "source": [
    "# well-format output dynamics with elderly labor\n",
    "constant_retire := eta[r]=rhs(output_dynamics_retire)-alpha*ln(Y[s,t])-(1-alpha+epsilon[j]+epsilon)*ln(h[y,t]):\n",
    "output_dynamics_retire := lhs(output_dynamics_retire)=alpha*ln(Y[s,t])+(1-alpha+epsilon[j]+epsilon)*ln(h[y,t])+lhs(constant_retire);"
   ]
  },
  {
   "cell_type": "markdown",
   "id": "9ba91b86",
   "metadata": {},
   "source": [
    "此时，由于两种动态，仅仅常数项不同，因此，BGP的增长率是相同的，均为$\\frac{1-\\alpha+\\epsilon_{j}+\\epsilon}{1-\\alpha}\\gamma$(由于$h_{y,t}$的增长率是常数\\gamma)"
   ]
  },
  {
   "cell_type": "code",
   "execution_count": 47,
   "id": "3433f19d",
   "metadata": {},
   "outputs": [
    {
     "data": {
      "text/markdown": [
       "$$\\ln \\left(Y_{t +1}\\right)-\\ln \\left(Y_{s ,t +1}\\right) = \\alpha  \\ln \\left(Y_{t}\\right)+\\eta_{w}-\\alpha  \\ln \\left(Y_{s ,t}\\right)-\\eta_{r}$$"
      ]
     },
     "execution_count": 47,
     "metadata": {},
     "output_type": "execute_result"
    }
   ],
   "source": [
    "# The difference of output under two cases\n",
    "lhs(output_dynamics_work)-lhs(output_dynamics_retire)=rhs(output_dynamics_work)-rhs(output_dynamics_retire);"
   ]
  },
  {
   "cell_type": "markdown",
   "id": "de31d3d5",
   "metadata": {},
   "source": [
    "从上面可知，稳态的产出差将等于$\\Delta_{Y}\\equiv (\\ln Y - \\ln Y_{s})^{*}=\\frac{\\eta_{w}-\\eta_{r}}{1-\\alpha}$"
   ]
  },
  {
   "cell_type": "code",
   "execution_count": 62,
   "id": "a4f13289",
   "metadata": {},
   "outputs": [
    {
     "data": {
      "text/markdown": [
       "$$\\Delta_{Y} = \\frac{\\ln \\left(n_{y} \\left(1+\\gamma \\right)-n_{o} \\left(\\delta -1\\right)\\right)}{1-\\alpha}-\\frac{\\ln \\left(n_{y} \\left(1+\\gamma \\right)-n_{o} \\left(\\delta -1\\right)\\right) \\alpha}{1-\\alpha}+\\frac{\\ln \\left(n_{y} \\left(1+\\gamma \\right)-n_{o} \\left(\\delta -1\\right)\\right) \\epsilon_{j}}{1-\\alpha}+\\frac{\\ln \\left(n_{y} \\left(1+\\gamma \\right)-n_{o} \\left(\\delta -1\\right)\\right) \\epsilon}{1-\\alpha}-\\frac{\\ln \\left(n_{y}+n_{o}\\right) \\epsilon_{j}}{1-\\alpha}-\\frac{\\ln \\left(n_{y}+n_{o}\\right) \\epsilon}{1-\\alpha}-\\frac{\\ln \\left(1+\\gamma \\right)}{1-\\alpha}+\\frac{\\ln \\left(1+\\gamma \\right) \\alpha}{1-\\alpha}-\\frac{\\ln \\left(1+\\gamma \\right) \\epsilon_{j}}{1-\\alpha}-\\frac{\\ln \\left(1+\\gamma \\right) \\epsilon}{1-\\alpha}-\\frac{\\ln \\left(n_{y}\\right)}{1-\\alpha}+\\frac{\\ln \\left(n_{y}\\right) \\alpha}{1-\\alpha}$$"
      ]
     },
     "execution_count": 62,
     "metadata": {},
     "output_type": "execute_result"
    }
   ],
   "source": [
    "# The steady-state difference of output under two cases\n",
    "output_gap:=Delta[Y]= (eta[w]-eta[r])/(1-alpha):\n",
    "output_gap:= expand(subs(constant_retire,constant_work,output_gap));"
   ]
  },
  {
   "cell_type": "code",
   "execution_count": 70,
   "id": "46ec42e8",
   "metadata": {},
   "outputs": [
    {
     "data": {
      "text/markdown": [
       "$$\\Delta_{Y} = \\frac{\\left(-1+\\alpha -\\epsilon_{j}-\\epsilon \\right) \\ln \\left(n_{y} \\left(1+\\gamma \\right)-n_{o} \\left(\\delta -1\\right)\\right)}{-1+\\alpha}+\\frac{\\left(\\epsilon_{j}+\\epsilon \\right) \\ln \\left(n_{y}+n_{o}\\right)}{-1+\\alpha}-\\frac{\\left(-1+\\alpha -\\epsilon_{j}-\\epsilon \\right) \\ln \\left(1+\\gamma \\right)}{-1+\\alpha}-\\ln \\left(n_{y}\\right)$$"
      ]
     },
     "execution_count": 70,
     "metadata": {},
     "output_type": "execute_result"
    }
   ],
   "source": [
    "output_gap:=lhs(output_gap)=simplify(op(1,rhs(output_gap))+op(2,rhs(output_gap))+op(3,rhs(output_gap))+op(4,rhs(output_gap)))+simplify(op(5,rhs(output_gap))+op(6,rhs(output_gap)))+simplify(op(7,rhs(output_gap))+op(8,rhs(output_gap))+op(9,rhs(output_gap))+op(10,rhs(output_gap)))+simplify(op(11,rhs(output_gap))+op(12,rhs(output_gap)));"
   ]
  },
  {
   "cell_type": "code",
   "execution_count": 76,
   "id": "ed0040c9",
   "metadata": {},
   "outputs": [
    {
     "data": {
      "text/markdown": [
       "$$\\Delta_{Y} = \\frac{\\left(-1+\\alpha -\\epsilon_{j}-\\epsilon \\right) \\left(\\ln \\left(n_{y} \\left(1+\\gamma \\right)-n_{o} \\left(\\delta -1\\right)\\right)-\\ln \\left(1+\\gamma \\right)\\right)}{-1+\\alpha}+\\frac{\\left(\\epsilon_{j}+\\epsilon \\right) \\ln \\left(n_{y}+n_{o}\\right)}{-1+\\alpha}-\\ln \\left(n_{y}\\right)$$"
      ]
     },
     "execution_count": 76,
     "metadata": {},
     "output_type": "execute_result"
    }
   ],
   "source": [
    "output_gap:=lhs(output_gap)=simplify(op(1,rhs(output_gap))+op(3,rhs(output_gap)))+simplify(op(2,rhs(output_gap))+op(4,rhs(output_gap)));"
   ]
  },
  {
   "cell_type": "code",
   "execution_count": 85,
   "id": "afec821b",
   "metadata": {},
   "outputs": [
    {
     "data": {
      "text/markdown": [
       "$$\\Delta_{Y ,\\mathit{noex}} = \\ln \\left(n_{y} \\left(1+\\gamma \\right)-n_{o} \\left(\\delta -1\\right)\\right)-\\ln \\left(1+\\gamma \\right)-\\ln \\left(n_{y}\\right)$$"
      ]
     },
     "execution_count": 85,
     "metadata": {},
     "output_type": "execute_result"
    }
   ],
   "source": [
    "# in the absence of human capital externality\n",
    "externality_no := epsilon=0,epsilon=0:\n",
    "output_gap_noexternality:=subs(externality_no,Delta[Y]=Delta[Y,noex],output_gap);"
   ]
  },
  {
   "cell_type": "markdown",
   "id": "4a680a0b",
   "metadata": {},
   "source": [
    "即，没有人力资本外部性，老年工作比退休具有更高的稳态产出，因为$\\Delta_{Y,noex}=\\ln(1+\\frac{n_{o}(1-\\delta)}{n_{y}(1+\\gamma)})>0$恒成立。"
   ]
  }
 ],
 "metadata": {
  "kernelspec": {
   "display_name": "Maple 2022",
   "language": "maple",
   "name": "maple"
  },
  "language_info": {
   "file_extension": ".mpl",
   "mimetype": "application/vnd.maple.mpl",
   "name": "maple",
   "version": "2022"
  }
 },
 "nbformat": 4,
 "nbformat_minor": 5
}
